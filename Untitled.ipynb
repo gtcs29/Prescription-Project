{
 "cells": [
  {
   "cell_type": "code",
   "execution_count": 12,
   "metadata": {
    "scrolled": true
   },
   "outputs": [
    {
     "name": "stdout",
     "output_type": "stream",
     "text": [
      "4\n"
     ]
    }
   ],
   "source": [
    "def formingTeams(n, l, t):\n",
    "    \n",
    "#     dic = {}\n",
    "    \n",
    "#     tot = 0\n",
    "#     for i in range(len(arr)):\n",
    "#         for j in range(i+1,len(arr)):\n",
    "#             s = arr[i] + arr[j]\n",
    "#             if i != j:\n",
    "#                 if s in dic:\n",
    "#                     dic[arr[i] + arr[j]][0] += 1\n",
    "#                     dic[arr[i] + arr[j]][1] += [i, j]\n",
    "#                 else:\n",
    "#                     dic[arr[i] + arr[j]] = [1, [i, j]]\n",
    "    \n",
    "    \n",
    "#     for l in range(len(arr)):\n",
    "        \n",
    "#         if (k - arr[l]) in dic:\n",
    "            \n",
    "#             tot += dic[k-arr[l]][0]\n",
    "#             for p in dic[k-arr[l]][1]:\n",
    "#                 if l == p:\n",
    "#                     tot -= 1\n",
    "                \n",
    "#     return int(tot/3)\n",
    "\n",
    "    l.sort()\n",
    "    ans=0\n",
    "\n",
    "    for i,x in enumerate(l):\n",
    "        diff=t-l[i]\n",
    "        j,k = i+1,len(l)-1\n",
    "        while j<k:\n",
    "            if l[j] + l[k] < diff:\n",
    "                j+=1\n",
    "            elif l[j] + l[k] > diff:\n",
    "                k-=1\n",
    "            elif l[j]!=l[k]:\n",
    "                left=right=1\n",
    "                while j+1<k and l[j]==l[j+1]:\n",
    "                    left+=1\n",
    "                    j+=1\n",
    "                while k-1>j and l[k]==l[k-1]:\n",
    "                    right+=1\n",
    "                    k-=1\n",
    "                ans+=left*right\n",
    "                j+=1\n",
    "                k-=1\n",
    "            else:\n",
    "                ans+= (k-j+1) * (k-j) / 2\n",
    "                break\n",
    "    return(ans)\n",
    "\n",
    "print(formingTeams(10, [4, 5, 10, 7, 3, 4, 7, 4, 1, 8], 20))\n",
    "\n",
    "# 3 9 1, 6 9 1, 3 4 2, 4 6 2, 1 9 3, 2 4 3, 1 3 9 "
   ]
  },
  {
   "cell_type": "code",
   "execution_count": null,
   "metadata": {
    "collapsed": true
   },
   "outputs": [],
   "source": []
  },
  {
   "cell_type": "code",
   "execution_count": null,
   "metadata": {
    "collapsed": true
   },
   "outputs": [],
   "source": []
  }
 ],
 "metadata": {
  "kernelspec": {
   "display_name": "Python 3",
   "language": "python",
   "name": "python3"
  },
  "language_info": {
   "codemirror_mode": {
    "name": "ipython",
    "version": 3
   },
   "file_extension": ".py",
   "mimetype": "text/x-python",
   "name": "python",
   "nbconvert_exporter": "python",
   "pygments_lexer": "ipython3",
   "version": "3.6.3"
  }
 },
 "nbformat": 4,
 "nbformat_minor": 2
}
